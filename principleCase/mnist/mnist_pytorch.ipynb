{
 "cells": [
  {
   "cell_type": "code",
   "execution_count": 2,
   "id": "fae7ca67-267f-4de8-ab9a-8d0aad19b0f3",
   "metadata": {},
   "outputs": [],
   "source": [
    "import torch\n",
    "from torch.utils.data import DataLoader  # 将数据集返回拼接成一个batch提供多线程优化和数据置乱等操作。\n",
    "import torchvision.datasets as ds  # 已有的一些数据训练数据库\n",
    "import torchvision.transforms as transforms"
   ]
  },
  {
   "cell_type": "markdown",
   "id": "f72cc7a8-0eaa-46af-9f42-827cedb7ff9c",
   "metadata": {},
   "source": [
    "# 1. 数据准备"
   ]
  },
  {
   "cell_type": "code",
   "execution_count": 3,
   "id": "10bcf3dd-c482-48d9-aa90-547ab2abdc9a",
   "metadata": {},
   "outputs": [],
   "source": [
    "train_dataset = ds.MNIST(root='./',   # 选择数据的根目录 \n",
    "                         train=True,      # 作为训练集\n",
    "                         transform = transforms.ToTensor(),  # 转换成Tensor \n",
    "                         download = False)  # 未下载数据时设定未True"
   ]
  },
  {
   "cell_type": "code",
   "execution_count": 4,
   "id": "6cf5f1a9-1ee0-4c4c-9a7e-18e951432fa5",
   "metadata": {},
   "outputs": [],
   "source": [
    "test_dataset = ds.MNIST(root = './',\n",
    "                        train = False,   # 作为测试集\n",
    "                        transform = transforms.ToTensor(),\n",
    "                        download = False)  # 未下载数据时设定未True"
   ]
  },
  {
   "cell_type": "markdown",
   "id": "b24321cc-8268-4f59-a323-761b28514db0",
   "metadata": {},
   "source": [
    "查看数据集 <br>\n",
    "训练集包含60 000个样本，测试集包含10 000个样本。<br>\n",
    "每张图像尺寸均是 28x28 像素，目标变量为 0-9 的标签 <br>"
   ]
  },
  {
   "cell_type": "code",
   "execution_count": 5,
   "id": "107a153f-a331-4c7d-89a3-5fed4d081ddd",
   "metadata": {},
   "outputs": [
    {
     "name": "stdout",
     "output_type": "stream",
     "text": [
      "train_dataset= torch.Size([60000, 28, 28])\n"
     ]
    }
   ],
   "source": [
    "print(\"train_dataset=\", train_dataset.data.size())"
   ]
  },
  {
   "cell_type": "code",
   "execution_count": 6,
   "id": "6962cd9f-8797-4a57-8db6-2166a9eca824",
   "metadata": {},
   "outputs": [
    {
     "name": "stdout",
     "output_type": "stream",
     "text": [
      "train_labels= torch.Size([60000])\n"
     ]
    }
   ],
   "source": [
    "print(\"train_labels=\", train_dataset.targets.size())"
   ]
  },
  {
   "cell_type": "code",
   "execution_count": 7,
   "id": "340888cb-c24d-451a-bd1c-15bb31bc7dc5",
   "metadata": {},
   "outputs": [
    {
     "name": "stdout",
     "output_type": "stream",
     "text": [
      "test_data= torch.Size([10000, 28, 28])\n"
     ]
    }
   ],
   "source": [
    "print(\"test_data=\", test_dataset.data.size())"
   ]
  },
  {
   "cell_type": "code",
   "execution_count": 8,
   "id": "15c7e472-c0a6-46ab-bcc1-4b6d48617b19",
   "metadata": {},
   "outputs": [
    {
     "name": "stdout",
     "output_type": "stream",
     "text": [
      "test_labels= torch.Size([10000])\n"
     ]
    }
   ],
   "source": [
    "print(\"test_labels=\", test_dataset.targets.size())"
   ]
  },
  {
   "cell_type": "markdown",
   "id": "cd2f54e0-339d-473c-bf12-0e043e57f445",
   "metadata": {},
   "source": [
    "# 2.数据加载"
   ]
  },
  {
   "cell_type": "code",
   "execution_count": 23,
   "id": "bf047102-2221-413b-a644-f9c1f5de2452",
   "metadata": {},
   "outputs": [],
   "source": [
    "batch_size = 100"
   ]
  },
  {
   "cell_type": "code",
   "execution_count": 24,
   "id": "abc1f4c2-cee5-4229-b00f-f7ad3945b49c",
   "metadata": {},
   "outputs": [],
   "source": [
    "# 加载训练数据\n",
    "train_loader = torch.utils.data.DataLoader(\n",
    "    dataset = train_dataset,\n",
    "    batch_size = batch_size ,\n",
    "    shuffle = True   # 将数据置乱\n",
    ")\n",
    "\n",
    "# 加载测试数据\n",
    "test_loader = torch.utils.data.DataLoader(\n",
    "    dataset = test_dataset,\n",
    "    batch_size = batch_size,\n",
    "    shuffle = True\n",
    ")"
   ]
  },
  {
   "cell_type": "markdown",
   "id": "ca4136b7-925d-40ee-8170-458ea81ae8b6",
   "metadata": {},
   "source": [
    "图像绘制查看"
   ]
  },
  {
   "cell_type": "code",
   "execution_count": 25,
   "id": "8c62a2ed-dff6-411d-9b7f-f6eab58ae93a",
   "metadata": {},
   "outputs": [
    {
     "data": {
      "image/png": "[encoded data removed]",
      "text/plain": [
       "<Figure size 640x480 with 1 Axes>"
      ]
     },
     "metadata": {},
     "output_type": "display_data"
    },
    {
     "name": "stdout",
     "output_type": "stream",
     "text": [
      "tensor(0)\n"
     ]
    }
   ],
   "source": [
    "import matplotlib.pyplot as plt\n",
    "\n",
    "digit = train_loader.dataset.data[1]\n",
    "plt.imshow(digit,cmap = plt.cm.binary)\n",
    "plt.show()\n",
    "print(train_loader.dataset.targets[1])"
   ]
  },
  {
   "cell_type": "markdown",
   "id": "bd1e35f5-9379-4362-a708-6ba80611c51d",
   "metadata": {},
   "source": [
    "# 3. 定义神经网络"
   ]
  },
  {
   "cell_type": "markdown",
   "id": "fc5c073c-afd7-45ec-bfd6-203f11f60482",
   "metadata": {},
   "source": [
    "定义一个简单的神经网络，继承pytorch中的Module,重写forward()函数完成前向计算"
   ]
  },
  {
   "cell_type": "code",
   "execution_count": 26,
   "id": "02d72d87-aaeb-41d5-a5dd-e8b1bfe5a63d",
   "metadata": {},
   "outputs": [
    {
     "name": "stdout",
     "output_type": "stream",
     "text": [
      "Nerual_net(\n",
      "  (layer1): Linear(in_features=784, out_features=500, bias=True)\n",
      "  (layer2): Linear(in_features=500, out_features=10, bias=True)\n",
      ")\n"
     ]
    }
   ],
   "source": [
    "import torch.nn as nn\n",
    "input_size = 784   # MNIST中的图像尺寸为 28*28\n",
    "hidden_size = 500  # 隐藏层数量\n",
    "num_classes = 10   # 输出数字 0-9, 共10个类别\n",
    "\n",
    "# 创建网络模型\n",
    "class Nerual_net(nn.Module):\n",
    "    def __init__(self, input_num, hidden_size, out_put):  # 初始化操作\n",
    "        super(Nerual_net, self).__init__()\n",
    "        self.layer1 = nn.Linear(input_num, hidden_size) \n",
    "        self.layer2 = nn.Linear(hidden_size, out_put)\n",
    "        \n",
    "    def forward(self,x):\n",
    "        out = self.layer1(x)   # 输入层到隐藏层\n",
    "        # print(\"out=\",out)\n",
    "        out = torch.relu(out)  # 采用ReLU激活函数\n",
    "        out = self.layer2(out) # 隐藏层到输出层\n",
    "        return out\n",
    "\n",
    "net = Nerual_net(input_size, hidden_size, num_classes)\n",
    "print(net)"
   ]
  },
  {
   "cell_type": "markdown",
   "id": "a44b1484-6084-474d-b598-5e41e02c9b9e",
   "metadata": {},
   "source": [
    "# 4.网络训练"
   ]
  },
  {
   "cell_type": "code",
   "execution_count": 27,
   "id": "6855fd76-a698-4eb9-a48f-49cb85e30180",
   "metadata": {},
   "outputs": [
    {
     "name": "stdout",
     "output_type": "stream",
     "text": [
      "current eponch = 0\n",
      "current loss=2.32050\n",
      "current eponch = 1\n",
      "current loss=1.40199\n",
      "current eponch = 2\n",
      "current loss=0.82275\n",
      "current eponch = 3\n",
      "current loss=0.58162\n",
      "current eponch = 4\n",
      "current loss=0.52284\n",
      "current eponch = 5\n",
      "current loss=0.44654\n",
      "current eponch = 6\n",
      "current loss=0.39353\n",
      "current eponch = 7\n",
      "current loss=0.39206\n",
      "current eponch = 8\n",
      "current loss=0.35534\n",
      "current eponch = 9\n",
      "current loss=0.34799\n",
      "current eponch = 10\n",
      "current loss=0.31988\n",
      "current eponch = 11\n",
      "current loss=0.33459\n",
      "current eponch = 12\n",
      "current loss=0.31788\n",
      "current eponch = 13\n",
      "current loss=0.37732\n",
      "current eponch = 14\n",
      "current loss=0.28604\n",
      "current eponch = 15\n",
      "current loss=0.30304\n",
      "current eponch = 16\n",
      "current loss=0.31805\n",
      "current eponch = 17\n",
      "current loss=0.32884\n",
      "current eponch = 18\n",
      "current loss=0.29485\n",
      "current eponch = 19\n",
      "current loss=0.30398\n",
      "current eponch = 20\n",
      "current loss=0.29349\n",
      "current eponch = 21\n",
      "current loss=0.30264\n",
      "current eponch = 22\n",
      "current loss=0.30105\n",
      "current eponch = 23\n",
      "current loss=0.25560\n",
      "current eponch = 24\n",
      "current loss=0.25524\n",
      "current eponch = 25\n",
      "current loss=0.24490\n",
      "current eponch = 26\n",
      "current loss=0.27280\n",
      "current eponch = 27\n",
      "current loss=0.25748\n",
      "current eponch = 28\n",
      "current loss=0.20535\n",
      "current eponch = 29\n",
      "current loss=0.28020\n",
      "current eponch = 30\n",
      "current loss=0.25039\n",
      "current eponch = 31\n",
      "current loss=0.23075\n",
      "current eponch = 32\n",
      "current loss=0.25090\n",
      "current eponch = 33\n",
      "current loss=0.22432\n",
      "current eponch = 34\n",
      "current loss=0.20550\n",
      "current eponch = 35\n",
      "current loss=0.20083\n",
      "current eponch = 36\n",
      "current loss=0.22883\n",
      "current eponch = 37\n",
      "current loss=0.20625\n",
      "current eponch = 38\n",
      "current loss=0.25073\n",
      "current eponch = 39\n",
      "current loss=0.23462\n",
      "current eponch = 40\n",
      "current loss=0.26558\n",
      "current eponch = 41\n",
      "current loss=0.23702\n",
      "current eponch = 42\n",
      "current loss=0.18607\n",
      "current eponch = 43\n",
      "current loss=0.21899\n",
      "current eponch = 44\n",
      "current loss=0.18163\n",
      "current eponch = 45\n",
      "current loss=0.21486\n",
      "current eponch = 46\n",
      "current loss=0.20756\n",
      "current eponch = 47\n",
      "current loss=0.19935\n",
      "current eponch = 48\n",
      "current loss=0.21239\n",
      "current eponch = 49\n",
      "current loss=0.17140\n",
      "finished training\n"
     ]
    }
   ],
   "source": [
    "learning_rate = 5e-2  # 学习率设置为0.05\n",
    "num_epoches = 50   # 训练论述设为50\n",
    "criterion = nn.CrossEntropyLoss()  # 采用交叉熵损失函数\n",
    "optimizer = torch.optim.SGD(net.parameters(), lr = learning_rate)   # 梯度下降\n",
    "\n",
    "for epoch in range(num_epoches):\n",
    "    print('current eponch = %d'% epoch)\n",
    "    for i, (images, labels) in enumerate(train_loader):\n",
    "        images = images.view(-1, 28*28)\n",
    "        outputs = net(images)   # 将数据集传入网络, 进行前向计算。\n",
    "        loss = criterion(outputs, labels)  # 计算损失函数值\n",
    "        optimizer.zero_grad()  # 反向传播前需要清楚网络状态\n",
    "        loss.backward()   # 误差反向传播\n",
    "        optimizer.step()   # 更新模型参数\n",
    "        if i % 100 == 0:\n",
    "            print('current loss=%.5f' % loss.item())\n",
    "print('finished training')\n"
   ]
  },
  {
   "cell_type": "markdown",
   "id": "e26c1698-aa3a-48ff-a53c-11fcbed8402b",
   "metadata": {},
   "source": [
    "# 5. 测试"
   ]
  },
  {
   "cell_type": "code",
   "execution_count": 28,
   "id": "80b856be-f524-45a1-af13-242d0e5ce7e0",
   "metadata": {},
   "outputs": [
    {
     "name": "stdout",
     "output_type": "stream",
     "text": [
      "Accuracy=10.26\n",
      "total_num= 10000 , correct_num= tensor(1026)\n"
     ]
    }
   ],
   "source": [
    "total_num = 0\n",
    "correct_num = 0\n",
    "\n",
    "for images, label in test_loader:\n",
    "    images = images.view(-1, 28*28)\n",
    "    outputs = net(images)\n",
    "    _, predicts = torch.max(outputs.data, 1)  # _：最大值本身, predicts：最大值对应的索引（即预测的类别标签）\n",
    "    total_num += labels.size(0)\n",
    "    correct_num += (predicts == labels).sum()\n",
    "    \n",
    "print(\"Accuracy=%.2f\" % (100*correct_num/total_num))\n",
    "print(\"total_num=\",total_num, \", correct_num=\", correct_num)"
   ]
  },
  {
   "cell_type": "code",
   "execution_count": null,
   "id": "05607cce-bc44-4d04-95c3-406e8fe71cf4",
   "metadata": {},
   "outputs": [],
   "source": []
  }
 ],
 "metadata": {
  "kernelspec": {
   "display_name": "Python 3 (ipykernel)",
   "language": "python",
   "name": "python3"
  },
  "language_info": {
   "codemirror_mode": {
    "name": "ipython",
    "version": 3
   },
   "file_extension": ".py",
   "mimetype": "text/x-python",
   "name": "python",
   "nbconvert_exporter": "python",
   "pygments_lexer": "ipython3",
   "version": "3.12.4"
  }
 },
 "nbformat": 4,
 "nbformat_minor": 5
}
