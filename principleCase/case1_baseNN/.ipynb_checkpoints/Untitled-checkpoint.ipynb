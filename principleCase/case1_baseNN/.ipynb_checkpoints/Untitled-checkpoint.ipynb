{
 "cells": [
  {
   "cell_type": "markdown",
   "id": "11dfc1a8-bde7-4a35-8967-a2a319c3df36",
   "metadata": {},
   "source": [
    "# 框架代码"
   ]
  },
  {
   "cell_type": "markdown",
   "id": "6f43188c-cac5-4900-aa40-2903b1db16a1",
   "metadata": {},
   "source": [
    "初始化函数——设定输入层节点、隐藏层节点和输出层节点的数量。<br>\n",
    "训练——学习给定训练集样本后，优化权重。<br>\n",
    "查询——给定输入，从输出节点给出答案。<br>"
   ]
  },
  {
   "cell_type": "code",
   "execution_count": 1,
   "id": "59eaab4f-3e74-48d0-ad7f-7faa8861708a",
   "metadata": {},
   "outputs": [],
   "source": [
    "# neural network class definition\n",
    "class neuralNetwork:\n",
    "    # initialise the neural network\n",
    "    def __init__():\n",
    "        pass\n",
    "    # train the neural network\n",
    "    def train():\n",
    "        pass\n",
    "    # query the neural network\n",
    "    def query():\n",
    "        pass"
   ]
  },
  {
   "cell_type": "markdown",
   "id": "44cfe74b-0062-4fc1-a5b7-35ee59b18042",
   "metadata": {},
   "source": [
    "## 初始化 __init__()"
   ]
  },
  {
   "cell_type": "markdown",
   "id": "c5d267fa-e7a6-4923-a972-af6ec9d456c1",
   "metadata": {},
   "source": [
    "设置输入层节点、隐藏层节点和输出层节点的数量; 以及学习率。"
   ]
  },
  {
   "cell_type": "code",
   "execution_count": 3,
   "id": "fe46e460-78fd-4bf1-ac2e-a47f6f503c7c",
   "metadata": {},
   "outputs": [],
   "source": [
    "class neuralNetwork:\n",
    "    # initialise the neural network\n",
    "    def __init__(self, inputnodes, hiddennodes, outputnodes, learningrate):\n",
    "        # set number of ndoes in each input, hidden, output layer \n",
    "        # 设置输入层、隐藏层、输出层节点\n",
    "        self.inodes = inputnodes\n",
    "        self.hnodes = hiddennodes\n",
    "        self.onodes = outputnodes\n",
    "        # learning rate 设置学习率\n",
    "        self.lr = learningrate\n",
    "        pass\n",
    "    # train the neural network\n",
    "    def train():\n",
    "        pass\n",
    "    # query the neural network\n",
    "    def query():\n",
    "        pass"
   ]
  },
  {
   "cell_type": "markdown",
   "id": "f42f6f50-ab34-48e5-bcb1-f61b4d68cfde",
   "metadata": {},
   "source": [
    "尝试创建神经网络，建每层3个节点、学习率为\n",
    "0.5的小型神经网络对象。"
   ]
  },
  {
   "cell_type": "code",
   "execution_count": 4,
   "id": "73c02c7a-fd53-458c-81ed-d3e5ad75daa4",
   "metadata": {},
   "outputs": [],
   "source": [
    "# number of input, hidden and output nodes\n",
    "input_nodes = 3\n",
    "hidden_nodes = 3\n",
    "output_nodes = 3\n",
    "\n",
    "# learning rate is 0.5\n",
    "learning_rate = 0.5\n",
    "\n",
    "# create instance of neural network\n",
    "n = neuralNetwork(input_nodes, hidden_nodes, output_nodes, learning_rate)"
   ]
  },
  {
   "cell_type": "markdown",
   "id": "038a5f66-149f-43a5-bcf5-c39c8af84dd8",
   "metadata": {},
   "source": [
    "## 权重——网络的核心"
   ]
  },
  {
   "cell_type": "markdown",
   "id": "2fd9b3de-250c-4b79-a8fd-c4d08dc8c9e1",
   "metadata": {},
   "source": [
    "1. 在输入层与隐藏层之间的链接权重矩阵$W_{input\\_hidden}$，大小为hidden_nodes乘以input_nodes。\n",
    "2. 在隐藏层和输出层之间的链接权重矩阵$W_{hidden\\_output}$，大小为hidden_nodes乘以\toutput_nodes"
   ]
  },
  {
   "cell_type": "code",
   "execution_count": 6,
   "id": "e2941748-338f-43b6-9e35-bce8e9cb540f",
   "metadata": {},
   "outputs": [],
   "source": [
    "import numpy as np"
   ]
  },
  {
   "cell_type": "code",
   "execution_count": 10,
   "id": "e9b9cd9f-61a5-486a-9843-fc544d747f3d",
   "metadata": {},
   "outputs": [],
   "source": [
    "# np.random.rand(3,3)-0.5  # 权重的范围在-1到1之间"
   ]
  },
  {
   "cell_type": "code",
   "execution_count": 14,
   "id": "c9861d82-6c4e-44b2-8294-a855b78686a5",
   "metadata": {},
   "outputs": [],
   "source": [
    "class neuralNetwork:\n",
    "    # initialise the neural network\n",
    "    def __init__(self, inputnodes, hiddennodes, outputnodes, learningrate):\n",
    "        # set number of ndoes in each input, hidden, output layer \n",
    "        # 设置输入层、隐藏层、输出层节点\n",
    "        self.inodes = inputnodes\n",
    "        self.hnodes = hiddennodes\n",
    "        self.onodes = outputnodes\n",
    "        # learning rate 设置学习率\n",
    "        self.lr = learningrate\n",
    "\n",
    "        # link weight matrices, wih and who\n",
    "        # weight inside the arrays are w_i_j, where link is from node i to node j in the next layer\n",
    "        # w11 w21\n",
    "        # w21 w22 etc\n",
    "        self.win = (np.random.rand(self.hnodes, self.inodes)-0.5)\n",
    "        self.who = (np.random.rand(self.onodes, self.hnodes)-0.5)\n",
    "\n",
    "        # option for wih and who with normal() 用正态分布初始化\n",
    "        self.win = np.random.normal(0.0, pow(self.hnodes, -0.5), (self.hnodes, self.inodes)) # pow(x,y) = x^y\n",
    "        self.who = np.random.normal(0.0, pow(self.onodes, -0.5), (self.onodes, self.hnodes))\n",
    "        \n",
    "        pass\n",
    "    # train the neural network\n",
    "    def train():\n",
    "        pass\n",
    "    # query the neural network\n",
    "    def query():\n",
    "        pass"
   ]
  },
  {
   "cell_type": "markdown",
   "id": "951bf4d4-f7a3-462e-b721-37711da884cc",
   "metadata": {},
   "source": [
    "## 查询网络"
   ]
  },
  {
   "cell_type": "markdown",
   "id": "c714b992-c4e1-4440-92a5-07ad03e1a777",
   "metadata": {},
   "source": [
    "$X_{hidden}$ = $W_{input\\_hidden}•I$  字母均表示矩阵"
   ]
  },
  {
   "cell_type": "code",
   "execution_count": 23,
   "id": "8934c2c2-25f1-4402-a789-777f89386d62",
   "metadata": {},
   "outputs": [],
   "source": [
    "class neuralNetwork:\n",
    "    # initialise the neural network\n",
    "    def __init__(self, inputnodes, hiddennodes, outputnodes, learningrate):\n",
    "        # set number of ndoes in each input, hidden, output layer \n",
    "        # 设置输入层、隐藏层、输出层节点\n",
    "        self.inodes = inputnodes\n",
    "        self.hnodes = hiddennodes\n",
    "        self.onodes = outputnodes\n",
    "        # learning rate 设置学习率\n",
    "        self.lr = learningrate\n",
    "\n",
    "        # link weight matrices, wih and who\n",
    "        # weight inside the arrays are w_i_j, where link is from node i to node j in the next layer\n",
    "        # w11 w21\n",
    "        # w21 w22 etc\n",
    "        self.win = (np.random.rand(self.hnodes, self.inodes)-0.5)\n",
    "        self.who = (np.random.rand(self.onodes, self.hnodes)-0.5)\n",
    "\n",
    "        # option for wih and who with normal() 用正态分布初始化\n",
    "        self.win = np.random.normal(0.0, pow(self.hnodes, -0.5), (self.hnodes, self.inodes)) # pow(x,y) = x^y\n",
    "        self.who = np.random.normal(0.0, pow(self.onodes, -0.5), (self.onodes, self.hnodes))\n",
    "        \n",
    "        pass\n",
    "    # train the neural network\n",
    "    def train():\n",
    "        pass\n",
    "    # query the neural network\n",
    "    def query():\n",
    "        hidden_inputs = np.dot(self.wih, inputs)\n",
    "        pass"
   ]
  },
  {
   "cell_type": "markdown",
   "id": "e89378aa-3efa-4722-a616-ecc175df827d",
   "metadata": {},
   "source": [
    "$O_{hidden}$ = $sigmoid( X_{hidden})$  添加激活函数"
   ]
  },
  {
   "cell_type": "code",
   "execution_count": 25,
   "id": "69ad1a6d-03a8-47f7-8c24-0add28781883",
   "metadata": {},
   "outputs": [],
   "source": [
    "# scipy.special for the sigmoid function expit()\n",
    "import scipy.special\n",
    "import numpy as np\n",
    "\n",
    "class neuralNetwork:\n",
    "    # initialise the neural network\n",
    "    def __init__(self, inputnodes, hiddennodes, outputnodes, learningrate):\n",
    "        # set number of ndoes in each input, hidden, output layer \n",
    "        # 设置输入层、隐藏层、输出层节点\n",
    "        self.inodes = inputnodes\n",
    "        self.hnodes = hiddennodes\n",
    "        self.onodes = outputnodes\n",
    "        # learning rate 设置学习率\n",
    "        self.lr = learningrate\n",
    "\n",
    "        # link weight matrices, wih and who\n",
    "        # weight inside the arrays are w_i_j, where link is from node i to node j in the next layer\n",
    "        # w11 w21\n",
    "        # w21 w22 etc\n",
    "        # self.win = (np.random.rand(self.hnodes, self.inodes)-0.5)\n",
    "        # self.who = (np.random.rand(self.onodes, self.hnodes)-0.5)\n",
    "\n",
    "        # option for wih and who with normal() 用正态分布初始化\n",
    "        self.win = np.random.normal(0.0, pow(self.hnodes, -0.5), (self.hnodes, self.inodes)) # pow(x,y) = x^y\n",
    "        self.who = np.random.normal(0.0, pow(self.onodes, -0.5), (self.onodes, self.hnodes))\n",
    "        \n",
    "        pass\n",
    "    # train the neural network\n",
    "    def train():\n",
    "        pass\n",
    "    # query the neural network\n",
    "    def query():\n",
    "        hidden_inputs = np.dot(self.wih, inputs) # 根据输入值和权重相乘，得到隐藏层的输入\n",
    "\n",
    "        #activation function is the sigmoid function # 确定激活函数，对隐藏层输入进行操作\n",
    "        self.activation_function = lambda x: scipy.special.expit(x) # 定义希望使用的激活函数x\n",
    "\n",
    "        # calculate the signals emerging from hidden layer 计算激活函数后的隐藏层输出值\n",
    "        hidden_outputs = self.activation_function(hidden_inputs)\n",
    "\n",
    "        # calculate signals into final output layer 隐藏层输出与下一层隐藏层2的权重进行相乘，得出隐藏层2的输入\n",
    "        hidden_inputs = np.dot(self.who, hidden_outputs)\n",
    "\n",
    "        # calculate the signals emerging from final output layer 计算隐藏层2的激活函数后结果\n",
    "        final_outputs = self.activation_function(final_inputs)\n",
    "        \n",
    "        pass\n"
   ]
  },
  {
   "cell_type": "markdown",
   "id": "3cd77435-0024-419b-86bf-4375e5779558",
   "metadata": {},
   "source": [
    "整理当前代码"
   ]
  },
  {
   "cell_type": "code",
   "execution_count": 45,
   "id": "8f019205-e313-4fb4-bdf7-44ebaaceb8f2",
   "metadata": {},
   "outputs": [],
   "source": [
    "# scipy.special for the sigmoid function expit()\n",
    "import scipy.special\n",
    "import numpy as np\n",
    "\n",
    "class neuralNetwork:\n",
    "    # initialise the neural network\n",
    "    def __init__(self, inputnodes, hiddennodes, outputnodes, learningrate):\n",
    "        # set number of ndoes in each input, hidden, output layer \n",
    "        # 设置输入层、隐藏层、输出层节点\n",
    "        self.inodes = inputnodes\n",
    "        self.hnodes = hiddennodes\n",
    "        self.onodes = outputnodes\n",
    "        # learning rate 设置学习率\n",
    "        self.lr = learningrate\n",
    "\n",
    "        # option for wih and who with normal() 用正态分布初始化\n",
    "        self.win = np.random.normal(0.0, pow(self.hnodes, -0.5), (self.hnodes, self.inodes)) # pow(x,y) = x^y\n",
    "        self.who = np.random.normal(0.0, pow(self.onodes, -0.5), (self.onodes, self.hnodes))\n",
    "\n",
    "        #activation function is the sigmoid function # 确定激活函数，对隐藏层输入进行操作\n",
    "        self.activation_function = lambda x: scipy.special.expit(x) # 定义希望使用的激活函数x\n",
    "        \n",
    "   \n",
    "    # train the neural network\n",
    "    def train():\n",
    "        pass\n",
    "    \n",
    "    # query the neural network\n",
    "    def query(self, inputs_list):\n",
    "        # convert inputs list to 2d array 将输出转化成二维,因为 win是二维的\n",
    "        inputs = np.array(inputs_list, ndmin=2).T\n",
    "        \n",
    "        hidden_inputs = np.dot(self.win, inputs) # 根据输入值和权重相乘，得到隐藏层的输入\n",
    "        \n",
    "        # calculate the signals emerging from hidden layer 计算激活函数后的隐藏层输出值\n",
    "        hidden_outputs = self.activation_function(hidden_inputs)\n",
    "\n",
    "        # calculate signals into final output layer 隐藏层输出与下一层隐藏层2的权重进行相乘，得出隐藏层2的输入\n",
    "        final_inputs = np.dot(self.who, hidden_outputs)\n",
    "\n",
    "        # calculate the signals emerging from final output layer 计算隐藏层2的激活函数后结果\n",
    "        final_outputs = self.activation_function(final_inputs)\n",
    "\n",
    "        return final_outputs\n"
   ]
  },
  {
   "cell_type": "markdown",
   "id": "de32bba4-a0bb-404c-874c-404973ca5ef4",
   "metadata": {},
   "source": [
    "测试目前得到的所有的代码。"
   ]
  },
  {
   "cell_type": "code",
   "execution_count": 46,
   "id": "4e172a01-a3ce-4e11-9516-13f3be2c0934",
   "metadata": {},
   "outputs": [],
   "source": [
    "# number of input, hidden and output nodes\n",
    "input_nodes = 3\n",
    "hidden_nodes = 3\n",
    "output_nodes = 3\n",
    "\n",
    "# learning rate is 0.3\n",
    "learning_rate = 0.3\n",
    "\n",
    "# create instance of neural network\n",
    "n = neuralNetwork(input_nodes, hidden_nodes, output_nodes, learning_rate)"
   ]
  },
  {
   "cell_type": "code",
   "execution_count": 47,
   "id": "93c13dd6-5e5b-4646-b60f-a12d29b1237e",
   "metadata": {},
   "outputs": [
    {
     "data": {
      "text/plain": [
       "array([[0.52940179],\n",
       "       [0.47279963],\n",
       "       [0.58254537]])"
      ]
     },
     "execution_count": 47,
     "metadata": {},
     "output_type": "execute_result"
    }
   ],
   "source": [
    "n.query([1.0, 0.5, -1.5])"
   ]
  },
  {
   "cell_type": "markdown",
   "id": "cd3b1f97-c8ab-4769-975d-5de8af5feb76",
   "metadata": {},
   "source": [
    "## 训练网络"
   ]
  },
  {
   "cell_type": "markdown",
   "id": "9dbfeb83-88fb-44c4-8a52-71f7d151103a",
   "metadata": {},
   "source": [
    "第一部分，针对给定的训练样本计算输出。这与我们刚刚在query()函数上所做的没什么区别。<br>\n",
    "第二部分，将计算得到的输出与所需输出对比，使用差值来指导网络权重的更新。"
   ]
  },
  {
   "cell_type": "code",
   "execution_count": 48,
   "id": "988b2f7b-e036-455f-8582-c6d60c6a18d0",
   "metadata": {},
   "outputs": [],
   "source": [
    "# scipy.special for the sigmoid function expit()\n",
    "import scipy.special\n",
    "import numpy as np\n",
    "\n",
    "class neuralNetwork:\n",
    "    # initialise the neural network\n",
    "    def __init__(self, inputnodes, hiddennodes, outputnodes, learningrate):\n",
    "        pass\n",
    "   \n",
    "    # train the neural network\n",
    "    def train(self, inputs_list, targets_list):\n",
    "        # 第一部分 样本计算\n",
    "        # convert inputs list to 2d array\n",
    "        inputs = np.array(inputs_list, ndmin=2).T\n",
    "        targets = np.array(targets_list, ndmin=2).T\n",
    "\n",
    "        #calculate signals into hidden layer\n",
    "        hidden_inputs = np.dot(self.win, inputs)\n",
    "        hidden_outputs = self.activation_function(hidden_inputs)\n",
    "\n",
    "        # calculate signals into final output layer\n",
    "        final_inputs = np.dot(self.who, hidden_outputs)\n",
    "        # calculate the signals emerging from final output layer\n",
    "        final_outputs = self.activation_function(final_inputs)\n",
    "\n",
    "        # 第二部分 误差，更新权重\n",
    "        # error is the (target - actual)\n",
    "        output_errors = targets - final_outputs\n",
    "        \n",
    "        pass\n",
    "    \n",
    "    # query the neural network\n",
    "    def query(self, inputs_list):\n",
    "        pass\n"
   ]
  },
  {
   "cell_type": "markdown",
   "id": "8173265e-e132-462b-b985-3bc2f84b9926",
   "metadata": {},
   "source": [
    "计算误差形式：$errors_{hidden} = weights^T_{hidden\\_output}\\cdot errors_{output}$"
   ]
  },
  {
   "cell_type": "code",
   "execution_count": 49,
   "id": "9e350bad-f8c1-45dc-a3d5-e5ba0777cd5f",
   "metadata": {},
   "outputs": [],
   "source": [
    "import scipy.special\n",
    "import numpy as np\n",
    "\n",
    "class neuralNetwork:\n",
    "    # initialise the neural network\n",
    "    def __init__(self, inputnodes, hiddennodes, outputnodes, learningrate):\n",
    "        pass\n",
    "   \n",
    "    # train the neural network\n",
    "    def train(self, inputs_list, targets_list):\n",
    "        # 第一部分 样本计算\n",
    "        # convert inputs list to 2d array\n",
    "        inputs = np.array(inputs_list, ndmin=2).T\n",
    "        targets = np.array(targets_list, ndmin=2).T\n",
    "\n",
    "        #calculate signals into hidden layer\n",
    "        hidden_inputs = np.dot(self.win, inputs)\n",
    "        hidden_outputs = self.activation_function(hidden_inputs)\n",
    "\n",
    "        # calculate signals into final output layer\n",
    "        final_inputs = np.dot(self.who, hidden_outputs)\n",
    "        # calculate the signals emerging from final output layer\n",
    "        final_outputs = self.activation_function(final_inputs)\n",
    "\n",
    "        # 第二部分 误差，更新权重\n",
    "        # error is the (target - actual)  误差矩阵\n",
    "        output_errors = targets - final_outputs\n",
    "\n",
    "        # hidden layer error is the output_errors, split by weights, recombined at hidden nodes\n",
    "        # 误差矩阵与转置后权重内积，得出误差权重矩阵\n",
    "        hidden_errors = np.dot(self.Who.T, output_errors)\n",
    "        \n",
    "        pass\n",
    "    \n",
    "    # query the neural network\n",
    "    def query(self, inputs_list):\n",
    "        pass\n"
   ]
  },
  {
   "cell_type": "markdown",
   "id": "53d976e7-b3bb-4c33-9bdf-6107e183b7ce",
   "metadata": {},
   "source": [
    "优化各个层之间的权重：隐蔽层和最终层之间的权重，我们使用output_errors进行优化；输入层和隐藏层之间的权重，我们使用hidden_errors进行优化。<br>\n",
    "更新节点j与其下一层节点k之间链接权重的矩\n",
    "阵形式的表达:$"
   ]
  },
  {
   "cell_type": "markdown",
   "id": "68b0f0c9-b235-4b69-b825-d51de0d00b93",
   "metadata": {},
   "source": [
    "$ \\Delta  w_{j,k} $ = $ \\alpha * E_k * sigmoid(O_k) * (1-sigmoid(O_k)) \\cdot O^T_j $"
   ]
  },
  {
   "cell_type": "markdown",
   "id": "253f1c2e-e325-4b0c-81c8-03c12b88fc07",
   "metadata": {},
   "source": [
    "$\\alpha$ 是学习率，$sigmoid$ 是激活函数，$*$ 是乘法，不是点积"
   ]
  },
  {
   "cell_type": "code",
   "execution_count": 53,
   "id": "bc4148ac-f243-4a78-bf6b-ea22e747b7e4",
   "metadata": {},
   "outputs": [],
   "source": [
    "import scipy.special\n",
    "import numpy as np\n",
    "\n",
    "class neuralNetwork:\n",
    "    # initialise the neural network\n",
    "    def __init__(self, inputnodes, hiddennodes, outputnodes, learningrate):\n",
    "        pass\n",
    "   \n",
    "    # train the neural network\n",
    "    def train(self, inputs_list, targets_list):\n",
    "        # 第一部分 样本计算\n",
    "        # convert inputs list to 2d array\n",
    "        inputs = np.array(inputs_list, ndmin=2).T\n",
    "        targets = np.array(targets_list, ndmin=2).T\n",
    "\n",
    "        #calculate signals into hidden layer\n",
    "        hidden_inputs = np.dot(self.win, inputs)\n",
    "        hidden_outputs = self.activation_function(hidden_inputs)\n",
    "\n",
    "        # calculate signals into final output layer\n",
    "        final_inputs = np.dot(self.who, hidden_outputs)\n",
    "        # calculate the signals emerging from final output layer\n",
    "        final_outputs = self.activation_function(final_inputs)\n",
    "\n",
    "        # 第二部分 误差，更新权重\n",
    "        # error is the (target - actual)  误差矩阵\n",
    "        output_errors = targets - final_outputs\n",
    "\n",
    "        # hidden layer error is the output_errors, split by weights, recombined at hidden nodes\n",
    "        # 误差矩阵与转置后权重内积，得出误差权重矩阵\n",
    "        hidden_errors = np.dot(self.Who.T, output_errors)\n",
    "\n",
    "        # updat the wights for the links between the hidden and output layers\n",
    "        self.who += self.lr * np.dot((output_errors * final_outputs * (1.0 - final_outputs)), np.transpose(hidden_outputs))\n",
    "        # update the weights for the links between the input and hidden layers\n",
    "        self.win += self.lr * np.dot((hidden_errors * hidden_outputs * (1.0 - hidden_outputs)), np.transpose(inputs))\n",
    "        \n",
    "        pass\n",
    "    \n",
    "    # query the neural network\n",
    "    def query(self, inputs_list):\n",
    "        pass"
   ]
  },
  {
   "cell_type": "markdown",
   "id": "d7c43a0c-5fe1-4f5c-842a-788005b5fc13",
   "metadata": {},
   "source": [
    "## 整理完整代码"
   ]
  },
  {
   "cell_type": "code",
   "execution_count": 58,
   "id": "1e3e5a9f-061b-4704-9770-a3e0bc857287",
   "metadata": {},
   "outputs": [],
   "source": [
    "# scipy.special for the sigmoid function expit()\n",
    "import scipy.special\n",
    "import numpy as np\n",
    "\n",
    "class neuralNetwork:\n",
    "    # initialise the neural network\n",
    "    def __init__(self, inputnodes, hiddennodes, outputnodes, learningrate):\n",
    "        # set number of ndoes in each input, hidden, output layer \n",
    "        # 设置输入层、隐藏层、输出层节点\n",
    "        self.inodes = inputnodes\n",
    "        self.hnodes = hiddennodes\n",
    "        self.onodes = outputnodes\n",
    "        # learning rate 设置学习率\n",
    "        self.lr = learningrate\n",
    "\n",
    "        # option for wih and who with normal() 用正态分布初始化\n",
    "        self.win = np.random.normal(0.0, pow(self.hnodes, -0.5), (self.hnodes, self.inodes)) # pow(x,y) = x^y\n",
    "        self.who = np.random.normal(0.0, pow(self.onodes, -0.5), (self.onodes, self.hnodes))\n",
    "\n",
    "        #activation function is the sigmoid function # 确定激活函数，对隐藏层输入进行操作\n",
    "        self.activation_function = lambda x: scipy.special.expit(x) # 定义希望使用的激活函数x\n",
    "        \n",
    "   \n",
    "    # train the neural network\n",
    "    def train(self, inputs_list, targets_list):\n",
    "        # 第一部分 样本计算\n",
    "        # convert inputs list to 2d array\n",
    "        inputs = np.array(inputs_list, ndmin=2).T\n",
    "        targets = np.array(targets_list, ndmin=2).T\n",
    "\n",
    "        #calculate signals into hidden layer\n",
    "        hidden_inputs = np.dot(self.win, inputs)\n",
    "        hidden_outputs = self.activation_function(hidden_inputs)\n",
    "\n",
    "        # calculate signals into final output layer\n",
    "        final_inputs = np.dot(self.who, hidden_outputs)\n",
    "        # calculate the signals emerging from final output layer\n",
    "        final_outputs = self.activation_function(final_inputs)\n",
    "\n",
    "        # 第二部分 误差，更新权重\n",
    "        # error is the (target - actual)  误差矩阵\n",
    "        output_errors = targets - final_outputs\n",
    "\n",
    "        # hidden layer error is the output_errors, split by weights, recombined at hidden nodes\n",
    "        # 误差矩阵与转置后权重内积，得出误差权重矩阵\n",
    "        hidden_errors = np.dot(self.Who.T, output_errors)\n",
    "\n",
    "        # updat the wights for the links between the hidden and output layers\n",
    "        self.who += self.lr * np.dot((output_errors * final_outputs * (1.0 - final_outputs)), np.transpose(hidden_outputs))\n",
    "        # update the weights for the links between the input and hidden layers\n",
    "        self.win += self.lr * np.dot((hidden_errors * hidden_outputs * (1.0 - hidden_outputs)), np.transpose(inputs))\n",
    "        \n",
    "        pass\n",
    "    \n",
    "    # query the neural network\n",
    "    def query(self, inputs_list):\n",
    "        # convert inputs list to 2d array 将输出转化成二维,因为 win是二维的\n",
    "        inputs = np.array(inputs_list, ndmin=2).T\n",
    "        \n",
    "        hidden_inputs = np.dot(self.win, inputs) # 根据输入值和权重相乘，得到隐藏层的输入\n",
    "        \n",
    "        # calculate the signals emerging from hidden layer 计算激活函数后的隐藏层输出值\n",
    "        hidden_outputs = self.activation_function(hidden_inputs)\n",
    "\n",
    "        # calculate signals into final output layer 隐藏层输出与下一层隐藏层2的权重进行相乘，得出隐藏层2的输入\n",
    "        final_inputs = np.dot(self.who, hidden_outputs)\n",
    "\n",
    "        # calculate the signals emerging from final output layer 计算隐藏层2的激活函数后结果\n",
    "        final_outputs = self.activation_function(final_inputs)\n",
    "\n",
    "        return final_outputs\n"
   ]
  },
  {
   "cell_type": "markdown",
   "id": "a12596ed-8509-4519-a180-8c0cce5a321a",
   "metadata": {},
   "source": [
    "# 运行例子"
   ]
  },
  {
   "cell_type": "markdown",
   "id": "ea3e3540-9b1d-4e5a-9e5e-58d04286ae68",
   "metadata": {},
   "source": [
    "## 从文件输入数据集"
   ]
  },
  {
   "cell_type": "code",
   "execution_count": 55,
   "id": "f27a4a40-c7fd-435f-9790-857dea6e883c",
   "metadata": {},
   "outputs": [],
   "source": [
    "data_file = open(\"mnist_train_100.csv\", 'r')\n",
    "data_list = data_file.readlines()\n",
    "data_file.close()"
   ]
  },
  {
   "cell_type": "code",
   "execution_count": 56,
   "id": "d8341fb9-15a7-439f-9e26-f676287c3e64",
   "metadata": {},
   "outputs": [
    {
     "data": {
      "text/plain": [
       "100"
      ]
     },
     "execution_count": 56,
     "metadata": {},
     "output_type": "execute_result"
    }
   ],
   "source": [
    "len(data_list)"
   ]
  },
  {
   "cell_type": "code",
   "execution_count": 57,
   "id": "b5db9a28-e8f4-4e41-9239-cb31526471c9",
   "metadata": {},
   "outputs": [
    {
     "data": {
      "text/plain": [
       "'5,0,0,0,0,0,0,0,0,0,0,0,0,0,0,0,0,0,0,0,0,0,0,0,0,0,0,0,0,0,0,0,0,0,0,0,0,0,0,0,0,0,0,0,0,0,0,0,0,0,0,0,0,0,0,0,0,0,0,0,0,0,0,0,0,0,0,0,0,0,0,0,0,0,0,0,0,0,0,0,0,0,0,0,0,0,0,0,0,0,0,0,0,0,0,0,0,0,0,0,0,0,0,0,0,0,0,0,0,0,0,0,0,0,0,0,0,0,0,0,0,0,0,0,0,0,0,0,0,0,0,0,0,0,0,0,0,0,0,0,0,0,0,0,0,0,0,0,0,0,0,0,0,3,18,18,18,126,136,175,26,166,255,247,127,0,0,0,0,0,0,0,0,0,0,0,0,30,36,94,154,170,253,253,253,253,253,225,172,253,242,195,64,0,0,0,0,0,0,0,0,0,0,0,49,238,253,253,253,253,253,253,253,253,251,93,82,82,56,39,0,0,0,0,0,0,0,0,0,0,0,0,18,219,253,253,253,253,253,198,182,247,241,0,0,0,0,0,0,0,0,0,0,0,0,0,0,0,0,0,0,80,156,107,253,253,205,11,0,43,154,0,0,0,0,0,0,0,0,0,0,0,0,0,0,0,0,0,0,0,14,1,154,253,90,0,0,0,0,0,0,0,0,0,0,0,0,0,0,0,0,0,0,0,0,0,0,0,0,0,139,253,190,2,0,0,0,0,0,0,0,0,0,0,0,0,0,0,0,0,0,0,0,0,0,0,0,0,11,190,253,70,0,0,0,0,0,0,0,0,0,0,0,0,0,0,0,0,0,0,0,0,0,0,0,0,0,35,241,225,160,108,1,0,0,0,0,0,0,0,0,0,0,0,0,0,0,0,0,0,0,0,0,0,0,0,81,240,253,253,119,25,0,0,0,0,0,0,0,0,0,0,0,0,0,0,0,0,0,0,0,0,0,0,0,45,186,253,253,150,27,0,0,0,0,0,0,0,0,0,0,0,0,0,0,0,0,0,0,0,0,0,0,0,16,93,252,253,187,0,0,0,0,0,0,0,0,0,0,0,0,0,0,0,0,0,0,0,0,0,0,0,0,0,249,253,249,64,0,0,0,0,0,0,0,0,0,0,0,0,0,0,0,0,0,0,0,0,0,46,130,183,253,253,207,2,0,0,0,0,0,0,0,0,0,0,0,0,0,0,0,0,0,0,0,39,148,229,253,253,253,250,182,0,0,0,0,0,0,0,0,0,0,0,0,0,0,0,0,0,0,24,114,221,253,253,253,253,201,78,0,0,0,0,0,0,0,0,0,0,0,0,0,0,0,0,0,23,66,213,253,253,253,253,198,81,2,0,0,0,0,0,0,0,0,0,0,0,0,0,0,0,0,18,171,219,253,253,253,253,195,80,9,0,0,0,0,0,0,0,0,0,0,0,0,0,0,0,0,55,172,226,253,253,253,253,244,133,11,0,0,0,0,0,0,0,0,0,0,0,0,0,0,0,0,0,0,136,253,253,253,212,135,132,16,0,0,0,0,0,0,0,0,0,0,0,0,0,0,0,0,0,0,0,0,0,0,0,0,0,0,0,0,0,0,0,0,0,0,0,0,0,0,0,0,0,0,0,0,0,0,0,0,0,0,0,0,0,0,0,0,0,0,0,0,0,0,0,0,0,0,0,0,0,0,0,0,0,0,0,0,0,0,0,0,0,0,0,0,0,0,0,0,0,0,0,0,0,0,0,0,0,0,0,0\\n'"
      ]
     },
     "execution_count": 57,
     "metadata": {},
     "output_type": "execute_result"
    }
   ],
   "source": [
    "data_list[0]"
   ]
  },
  {
   "cell_type": "markdown",
   "id": "8286dec5-0101-4450-be6f-fbe07c07d2fa",
   "metadata": {},
   "source": [
    "## 将数组转换成矩阵"
   ]
  },
  {
   "cell_type": "markdown",
   "id": "7fb0f71d-df95-4df3-864f-5fd90bf2f032",
   "metadata": {},
   "source": [
    "将由逗号分隔，长的文本字符串值，拆分成单个值，在逗号处进行分割。<br>\n",
    "忽略第一个值，这是标签，将剩余的28 × 28 =784个值转换成28列28行的数组。<br>\n",
    "绘制数组！<br>"
   ]
  },
  {
   "cell_type": "code",
   "execution_count": 59,
   "id": "44fbe569-9ac7-450e-b1f1-b81c9daad1c3",
   "metadata": {},
   "outputs": [
    {
     "data": {
      "text/plain": [
       "<matplotlib.image.AxesImage at 0x1f67c8e6330>"
      ]
     },
     "execution_count": 59,
     "metadata": {},
     "output_type": "execute_result"
    },
    {
     "data": {
      "image/png": "[encoded data removed]",
      "text/plain": [
       "<Figure size 640x480 with 1 Axes>"
      ]
     },
     "metadata": {},
     "output_type": "display_data"
    }
   ],
   "source": [
    "import numpy as np\n",
    "import matplotlib.pyplot as plt\n",
    "%matplotlib inline\n",
    "\n",
    "all_values = data_list[0].split(',')\n",
    "image_array = np.asfarray(all_values[1:]).reshape((28,28))\n",
    "plt.imshow(image_array, cmap='Greys', interpolation='None')"
   ]
  },
  {
   "cell_type": "markdown",
   "id": "c4b603c1-0f4d-4193-9392-28232a653d9f",
   "metadata": {},
   "source": [
    "## 准备 MNIST 训练数据"
   ]
  },
  {
   "cell_type": "markdown",
   "id": "072f417b-5a9a-43bc-aece-883d5dd3b027",
   "metadata": {},
   "source": [
    "我们需要做的第一件事情是将输入颜色值从较大的0到255的范围，缩放至较小的0.01到1.0的范围。"
   ]
  },
  {
   "cell_type": "code",
   "execution_count": 61,
   "id": "a0daf2c3-63aa-4002-b203-fec4ad895490",
   "metadata": {},
   "outputs": [
    {
     "name": "stdout",
     "output_type": "stream",
     "text": [
      "[0.01       0.01       0.01       0.01       0.01       0.01\n",
      " 0.01       0.01       0.01       0.01       0.01       0.01\n",
      " 0.01       0.01       0.01       0.01       0.01       0.01\n",
      " 0.01       0.01       0.01       0.01       0.01       0.01\n",
      " 0.01       0.01       0.01       0.01       0.01       0.01\n",
      " 0.01       0.01       0.01       0.01       0.01       0.01\n",
      " 0.01       0.01       0.01       0.01       0.01       0.01\n",
      " 0.01       0.01       0.01       0.01       0.01       0.01\n",
      " 0.01       0.01       0.01       0.01       0.01       0.01\n",
      " 0.01       0.01       0.01       0.01       0.01       0.01\n",
      " 0.01       0.01       0.01       0.01       0.01       0.01\n",
      " 0.01       0.01       0.01       0.01       0.01       0.01\n",
      " 0.01       0.01       0.01       0.01       0.01       0.01\n",
      " 0.01       0.01       0.01       0.01       0.01       0.01\n",
      " 0.01       0.01       0.01       0.01       0.01       0.01\n",
      " 0.01       0.01       0.01       0.01       0.01       0.01\n",
      " 0.01       0.01       0.01       0.01       0.01       0.01\n",
      " 0.01       0.01       0.01       0.01       0.01       0.01\n",
      " 0.01       0.01       0.01       0.01       0.01       0.01\n",
      " 0.01       0.01       0.01       0.01       0.01       0.01\n",
      " 0.01       0.01       0.01       0.01       0.01       0.01\n",
      " 0.01       0.01       0.01       0.01       0.01       0.01\n",
      " 0.01       0.01       0.01       0.01       0.01       0.01\n",
      " 0.01       0.01       0.01       0.01       0.01       0.01\n",
      " 0.01       0.01       0.01       0.01       0.01       0.01\n",
      " 0.01       0.01       0.02164706 0.07988235 0.07988235 0.07988235\n",
      " 0.49917647 0.538      0.68941176 0.11094118 0.65447059 1.\n",
      " 0.96894118 0.50305882 0.01       0.01       0.01       0.01\n",
      " 0.01       0.01       0.01       0.01       0.01       0.01\n",
      " 0.01       0.01       0.12647059 0.14976471 0.37494118 0.60788235\n",
      " 0.67       0.99223529 0.99223529 0.99223529 0.99223529 0.99223529\n",
      " 0.88352941 0.67776471 0.99223529 0.94952941 0.76705882 0.25847059\n",
      " 0.01       0.01       0.01       0.01       0.01       0.01\n",
      " 0.01       0.01       0.01       0.01       0.01       0.20023529\n",
      " 0.934      0.99223529 0.99223529 0.99223529 0.99223529 0.99223529\n",
      " 0.99223529 0.99223529 0.99223529 0.98447059 0.37105882 0.32835294\n",
      " 0.32835294 0.22741176 0.16141176 0.01       0.01       0.01\n",
      " 0.01       0.01       0.01       0.01       0.01       0.01\n",
      " 0.01       0.01       0.01       0.07988235 0.86023529 0.99223529\n",
      " 0.99223529 0.99223529 0.99223529 0.99223529 0.77870588 0.71658824\n",
      " 0.96894118 0.94564706 0.01       0.01       0.01       0.01\n",
      " 0.01       0.01       0.01       0.01       0.01       0.01\n",
      " 0.01       0.01       0.01       0.01       0.01       0.01\n",
      " 0.01       0.01       0.32058824 0.61564706 0.42541176 0.99223529\n",
      " 0.99223529 0.80588235 0.05270588 0.01       0.17694118 0.60788235\n",
      " 0.01       0.01       0.01       0.01       0.01       0.01\n",
      " 0.01       0.01       0.01       0.01       0.01       0.01\n",
      " 0.01       0.01       0.01       0.01       0.01       0.01\n",
      " 0.01       0.06435294 0.01388235 0.60788235 0.99223529 0.35941176\n",
      " 0.01       0.01       0.01       0.01       0.01       0.01\n",
      " 0.01       0.01       0.01       0.01       0.01       0.01\n",
      " 0.01       0.01       0.01       0.01       0.01       0.01\n",
      " 0.01       0.01       0.01       0.01       0.01       0.01\n",
      " 0.01       0.54964706 0.99223529 0.74764706 0.01776471 0.01\n",
      " 0.01       0.01       0.01       0.01       0.01       0.01\n",
      " 0.01       0.01       0.01       0.01       0.01       0.01\n",
      " 0.01       0.01       0.01       0.01       0.01       0.01\n",
      " 0.01       0.01       0.01       0.01       0.01       0.05270588\n",
      " 0.74764706 0.99223529 0.28176471 0.01       0.01       0.01\n",
      " 0.01       0.01       0.01       0.01       0.01       0.01\n",
      " 0.01       0.01       0.01       0.01       0.01       0.01\n",
      " 0.01       0.01       0.01       0.01       0.01       0.01\n",
      " 0.01       0.01       0.01       0.01       0.14588235 0.94564706\n",
      " 0.88352941 0.63117647 0.42929412 0.01388235 0.01       0.01\n",
      " 0.01       0.01       0.01       0.01       0.01       0.01\n",
      " 0.01       0.01       0.01       0.01       0.01       0.01\n",
      " 0.01       0.01       0.01       0.01       0.01       0.01\n",
      " 0.01       0.01       0.01       0.32447059 0.94176471 0.99223529\n",
      " 0.99223529 0.472      0.10705882 0.01       0.01       0.01\n",
      " 0.01       0.01       0.01       0.01       0.01       0.01\n",
      " 0.01       0.01       0.01       0.01       0.01       0.01\n",
      " 0.01       0.01       0.01       0.01       0.01       0.01\n",
      " 0.01       0.01       0.18470588 0.73211765 0.99223529 0.99223529\n",
      " 0.59235294 0.11482353 0.01       0.01       0.01       0.01\n",
      " 0.01       0.01       0.01       0.01       0.01       0.01\n",
      " 0.01       0.01       0.01       0.01       0.01       0.01\n",
      " 0.01       0.01       0.01       0.01       0.01       0.01\n",
      " 0.01       0.07211765 0.37105882 0.98835294 0.99223529 0.736\n",
      " 0.01       0.01       0.01       0.01       0.01       0.01\n",
      " 0.01       0.01       0.01       0.01       0.01       0.01\n",
      " 0.01       0.01       0.01       0.01       0.01       0.01\n",
      " 0.01       0.01       0.01       0.01       0.01       0.01\n",
      " 0.01       0.97670588 0.99223529 0.97670588 0.25847059 0.01\n",
      " 0.01       0.01       0.01       0.01       0.01       0.01\n",
      " 0.01       0.01       0.01       0.01       0.01       0.01\n",
      " 0.01       0.01       0.01       0.01       0.01       0.01\n",
      " 0.01       0.01       0.18858824 0.51470588 0.72047059 0.99223529\n",
      " 0.99223529 0.81364706 0.01776471 0.01       0.01       0.01\n",
      " 0.01       0.01       0.01       0.01       0.01       0.01\n",
      " 0.01       0.01       0.01       0.01       0.01       0.01\n",
      " 0.01       0.01       0.01       0.01       0.16141176 0.58458824\n",
      " 0.89905882 0.99223529 0.99223529 0.99223529 0.98058824 0.71658824\n",
      " 0.01       0.01       0.01       0.01       0.01       0.01\n",
      " 0.01       0.01       0.01       0.01       0.01       0.01\n",
      " 0.01       0.01       0.01       0.01       0.01       0.01\n",
      " 0.10317647 0.45258824 0.868      0.99223529 0.99223529 0.99223529\n",
      " 0.99223529 0.79035294 0.31282353 0.01       0.01       0.01\n",
      " 0.01       0.01       0.01       0.01       0.01       0.01\n",
      " 0.01       0.01       0.01       0.01       0.01       0.01\n",
      " 0.01       0.01       0.09929412 0.26623529 0.83694118 0.99223529\n",
      " 0.99223529 0.99223529 0.99223529 0.77870588 0.32447059 0.01776471\n",
      " 0.01       0.01       0.01       0.01       0.01       0.01\n",
      " 0.01       0.01       0.01       0.01       0.01       0.01\n",
      " 0.01       0.01       0.01       0.01       0.07988235 0.67388235\n",
      " 0.86023529 0.99223529 0.99223529 0.99223529 0.99223529 0.76705882\n",
      " 0.32058824 0.04494118 0.01       0.01       0.01       0.01\n",
      " 0.01       0.01       0.01       0.01       0.01       0.01\n",
      " 0.01       0.01       0.01       0.01       0.01       0.01\n",
      " 0.22352941 0.67776471 0.88741176 0.99223529 0.99223529 0.99223529\n",
      " 0.99223529 0.95729412 0.52635294 0.05270588 0.01       0.01\n",
      " 0.01       0.01       0.01       0.01       0.01       0.01\n",
      " 0.01       0.01       0.01       0.01       0.01       0.01\n",
      " 0.01       0.01       0.01       0.01       0.538      0.99223529\n",
      " 0.99223529 0.99223529 0.83305882 0.53411765 0.52247059 0.07211765\n",
      " 0.01       0.01       0.01       0.01       0.01       0.01\n",
      " 0.01       0.01       0.01       0.01       0.01       0.01\n",
      " 0.01       0.01       0.01       0.01       0.01       0.01\n",
      " 0.01       0.01       0.01       0.01       0.01       0.01\n",
      " 0.01       0.01       0.01       0.01       0.01       0.01\n",
      " 0.01       0.01       0.01       0.01       0.01       0.01\n",
      " 0.01       0.01       0.01       0.01       0.01       0.01\n",
      " 0.01       0.01       0.01       0.01       0.01       0.01\n",
      " 0.01       0.01       0.01       0.01       0.01       0.01\n",
      " 0.01       0.01       0.01       0.01       0.01       0.01\n",
      " 0.01       0.01       0.01       0.01       0.01       0.01\n",
      " 0.01       0.01       0.01       0.01       0.01       0.01\n",
      " 0.01       0.01       0.01       0.01       0.01       0.01\n",
      " 0.01       0.01       0.01       0.01       0.01       0.01\n",
      " 0.01       0.01       0.01       0.01       0.01       0.01\n",
      " 0.01       0.01       0.01       0.01       0.01       0.01\n",
      " 0.01       0.01       0.01       0.01      ]\n"
     ]
    }
   ],
   "source": [
    "import numpy as np\n",
    "import matplotlib.pyplot as plt\n",
    "%matplotlib inline\n",
    "\n",
    "# 从文件读取数据\n",
    "data_file = open(\"mnist_train_100.csv\", 'r')\n",
    "data_list = data_file.readlines()\n",
    "data_file.close()\n",
    "# 整理数据成矩阵\n",
    "all_values = data_list[0].split(',')\n",
    "scaled_input = (np.asfarray(all_values[1:])/255.0*0.99) + 0.01\n",
    "print(scaled_input)"
   ]
  },
  {
   "cell_type": "markdown",
   "id": "b83180a8-adf5-484a-9c73-192e7791ea31",
   "metadata": {},
   "source": [
    "构建目标矩阵"
   ]
  },
  {
   "cell_type": "code",
   "execution_count": 63,
   "id": "d8219f32-0e98-4035-91df-f170b0cac12d",
   "metadata": {},
   "outputs": [
    {
     "name": "stdout",
     "output_type": "stream",
     "text": [
      "[0.01 0.01 0.01 0.01 0.01 0.99 0.01 0.01 0.01 0.01]\n"
     ]
    }
   ],
   "source": [
    "import numpy as np\n",
    "import matplotlib.pyplot as plt\n",
    "%matplotlib inline\n",
    "\n",
    "# 从文件读取数据\n",
    "data_file = open(\"mnist_train_100.csv\", 'r')\n",
    "data_list = data_file.readlines()\n",
    "data_file.close()\n",
    "\n",
    "# 整理数据成矩阵\n",
    "all_values = data_list[0].split(',')\n",
    "scaled_input = (np.asfarray(all_values[1:])/255.0*0.99) + 0.01\n",
    "# print(scaled_input)\n",
    "\n",
    "#output nodes is 10 example 构建目标矩阵\n",
    "onodes = 10\n",
    "targets = np.zeros(onodes) + 0.01\n",
    "targets[int(all_values[0])] = 0.99\n",
    "print(targets)"
   ]
  },
  {
   "cell_type": "markdown",
   "id": "1a71d575-77c0-4a8d-abf8-e59e4442b77a",
   "metadata": {},
   "source": [
    "# 整理代码"
   ]
  },
  {
   "cell_type": "code",
   "execution_count": 66,
   "id": "5f07b354-56bb-4a7e-879c-58a73a6a57d6",
   "metadata": {},
   "outputs": [],
   "source": [
    "# scipy.special for the sigmoid function expit()\n",
    "import scipy.special\n",
    "import numpy as np\n",
    "import matplotlib.pyplot as plt\n",
    "%matplotlib inline\n",
    "\n",
    "class neuralNetwork:\n",
    "    # initialise the neural network\n",
    "    def __init__(self, inputnodes, hiddennodes, outputnodes, learningrate):\n",
    "        # set number of ndoes in each input, hidden, output layer \n",
    "        # 设置输入层、隐藏层、输出层节点\n",
    "        self.inodes = inputnodes\n",
    "        self.hnodes = hiddennodes\n",
    "        self.onodes = outputnodes\n",
    "        # learning rate 设置学习率\n",
    "        self.lr = learningrate\n",
    "\n",
    "        # option for wih and who with normal() 用正态分布初始化\n",
    "        self.win = np.random.normal(0.0, pow(self.hnodes, -0.5), (self.hnodes, self.inodes)) # pow(x,y) = x^y\n",
    "        self.who = np.random.normal(0.0, pow(self.onodes, -0.5), (self.onodes, self.hnodes))\n",
    "\n",
    "        #activation function is the sigmoid function # 确定激活函数，对隐藏层输入进行操作\n",
    "        self.activation_function = lambda x: scipy.special.expit(x) # 定义希望使用的激活函数x\n",
    "        \n",
    "   \n",
    "    # train the neural network\n",
    "    def train(self, inputs_list, targets_list):\n",
    "        # 第一部分 样本计算\n",
    "        # convert inputs list to 2d array\n",
    "        inputs = np.array(inputs_list, ndmin=2).T\n",
    "        targets = np.array(targets_list, ndmin=2).T\n",
    "\n",
    "        #calculate signals into hidden layer\n",
    "        hidden_inputs = np.dot(self.win, inputs)\n",
    "        hidden_outputs = self.activation_function(hidden_inputs)\n",
    "\n",
    "        # calculate signals into final output layer\n",
    "        final_inputs = np.dot(self.who, hidden_outputs)\n",
    "        # calculate the signals emerging from final output layer\n",
    "        final_outputs = self.activation_function(final_inputs)\n",
    "\n",
    "        # 第二部分 误差，更新权重\n",
    "        # error is the (target - actual)  误差矩阵\n",
    "        output_errors = targets - final_outputs\n",
    "\n",
    "        # hidden layer error is the output_errors, split by weights, recombined at hidden nodes\n",
    "        # 误差矩阵与转置后权重内积，得出误差权重矩阵\n",
    "        hidden_errors = np.dot(self.who.T, output_errors)\n",
    "\n",
    "        # updat the wights for the links between the hidden and output layers\n",
    "        self.who += self.lr * np.dot((output_errors * final_outputs * (1.0 - final_outputs)), np.transpose(hidden_outputs))\n",
    "        # update the weights for the links between the input and hidden layers\n",
    "        self.win += self.lr * np.dot((hidden_errors * hidden_outputs * (1.0 - hidden_outputs)), np.transpose(inputs))\n",
    "        \n",
    "        pass\n",
    "    \n",
    "    # query the neural network\n",
    "    def query(self, inputs_list):\n",
    "        # convert inputs list to 2d array 将输出转化成二维,因为 win是二维的\n",
    "        inputs = np.array(inputs_list, ndmin=2).T\n",
    "        \n",
    "        hidden_inputs = np.dot(self.win, inputs) # 根据输入值和权重相乘，得到隐藏层的输入\n",
    "        \n",
    "        # calculate the signals emerging from hidden layer 计算激活函数后的隐藏层输出值\n",
    "        hidden_outputs = self.activation_function(hidden_inputs)\n",
    "\n",
    "        # calculate signals into final output layer 隐藏层输出与下一层隐藏层2的权重进行相乘，得出隐藏层2的输入\n",
    "        final_inputs = np.dot(self.who, hidden_outputs)\n",
    "\n",
    "        # calculate the signals emerging from final output layer 计算隐藏层2的激活函数后结果\n",
    "        final_outputs = self.activation_function(final_inputs)\n",
    "\n",
    "        return final_outputs\n",
    "\n",
    "\n",
    "# 参数设置 number of input, hidden and output nodes\n",
    "input_nodes = 784\n",
    "hidden_nodes = 100\n",
    "output_nodes = 10\n",
    "# learning rate is 0.3\n",
    "learning_rate = 0.3\n",
    "\n",
    "# 创建实例  create instance of neural network\n",
    "n = neuralNetwork(input_nodes,hidden_nodes,output_nodes, learning_rate)\n",
    "\n",
    "# 从文件读取数据 load the mnist training data CSV file into a list\n",
    "training_data_file = open(\"mnist_train_100.csv\", 'r')\n",
    "training_data_list = training_data_file.readlines()\n",
    "training_data_file.close()\n",
    "\n",
    "# 模型训练  train the neural network\n",
    "# 数据整理成矩阵  go through all records in the training data set\n",
    "for record in training_data_list:\n",
    "    # split the record by the ',' commas\n",
    "    all_values = record.split(',')\n",
    "    # scale and shift the inputs\n",
    "    inputs = (np.asfarray(all_values[1:])/255.0 * 0.99) + 0.01\n",
    "    # create the target output values (all 0.01, exccept the desired label which is 0.99)\n",
    "    targets = np.zeros(output_nodes) + 0.01\n",
    "    # all_values[0] is the target label for this record\n",
    "    targets[int(all_values[0])] = 0.99\n",
    "    n.train(inputs, targets)\n",
    "    pass"
   ]
  },
  {
   "cell_type": "markdown",
   "id": "fd6d5948-636a-4b09-a080-d2a57a62d308",
   "metadata": {},
   "source": [
    "## 测试网络"
   ]
  },
  {
   "cell_type": "code",
   "execution_count": 71,
   "id": "20d427c8-be25-4a34-8cd2-bd271e7a19bc",
   "metadata": {},
   "outputs": [
    {
     "name": "stdout",
     "output_type": "stream",
     "text": [
      "7\n"
     ]
    }
   ],
   "source": [
    "# load the mnist test data CSV file into a list\n",
    "test_data_file = open(\"mnist_test_10.csv\",'r')\n",
    "test_data_list = test_data_file.readlines()\n",
    "test_data_file.close()\n",
    "\n",
    "# get the first test record\n",
    "all_values = test_data_list[0].split(',')\n",
    "# print the label\n",
    "print(all_values[0])"
   ]
  },
  {
   "cell_type": "code",
   "execution_count": 72,
   "id": "e41a7f50-2cbb-4784-9755-5c4fd9df4517",
   "metadata": {},
   "outputs": [
    {
     "data": {
      "text/plain": [
       "<matplotlib.image.AxesImage at 0x1f67c91b2c0>"
      ]
     },
     "execution_count": 72,
     "metadata": {},
     "output_type": "execute_result"
    },
    {
     "data": {
      "image/png": "[encoded data removed]",
      "text/plain": [
       "<Figure size 640x480 with 1 Axes>"
      ]
     },
     "metadata": {},
     "output_type": "display_data"
    }
   ],
   "source": [
    "image_array = np.asfarray(all_values[1:]).reshape((28,28))\n",
    "plt.imshow(image_array, cmap='Greys', interpolation='None')"
   ]
  },
  {
   "cell_type": "code",
   "execution_count": 73,
   "id": "a9c61f19-1eb8-4847-9a2f-b6a9880f9328",
   "metadata": {},
   "outputs": [
    {
     "data": {
      "text/plain": [
       "array([[0.03203942],\n",
       "       [0.01037299],\n",
       "       [0.03346194],\n",
       "       [0.05010945],\n",
       "       [0.02964391],\n",
       "       [0.06924224],\n",
       "       [0.00984678],\n",
       "       [0.90701539],\n",
       "       [0.1191612 ],\n",
       "       [0.04734559]])"
      ]
     },
     "execution_count": 73,
     "metadata": {},
     "output_type": "execute_result"
    }
   ],
   "source": [
    "n.query((np.asfarray(all_values[1:])/255.0 * 0.99)+0.01)"
   ]
  },
  {
   "cell_type": "markdown",
   "id": "f7670f57-dc73-4f97-86fb-8ade5f644f17",
   "metadata": {},
   "source": [
    "## 神经网络再测试"
   ]
  },
  {
   "cell_type": "code",
   "execution_count": 77,
   "id": "b7adc654-5dfd-4563-b4a5-4277ffbd7b89",
   "metadata": {},
   "outputs": [
    {
     "name": "stdout",
     "output_type": "stream",
     "text": [
      "7 correct label\n",
      "7 network's answer\n",
      "2 correct label\n",
      "3 network's answer\n",
      "1 correct label\n",
      "1 network's answer\n",
      "0 correct label\n",
      "0 network's answer\n",
      "4 correct label\n",
      "4 network's answer\n",
      "1 correct label\n",
      "1 network's answer\n",
      "4 correct label\n",
      "4 network's answer\n",
      "9 correct label\n",
      "3 network's answer\n",
      "5 correct label\n",
      "4 network's answer\n",
      "9 correct label\n",
      "7 network's answer\n",
      "[1, 0, 1, 1, 1, 1, 1, 0, 0, 0]\n"
     ]
    }
   ],
   "source": [
    "# test the neural network\n",
    "# scorecard for how well the network performs, initially empty \n",
    "# 用积分卡 scorecard 表示网络性能\n",
    "scorecard = []\n",
    "\n",
    "# go through all the records in the test data set\n",
    "for record in test_data_list:\n",
    "    # split the record by the ',' commas 格式化\n",
    "    all_values = record.split(',')\n",
    "    \n",
    "    # correct answer is first value 正确值\n",
    "    correct_label = int(all_values[0])\n",
    "    print(correct_label, \"correct label\")\n",
    "    \n",
    "    # scale and shift the inputs 输入值格式化\n",
    "    inputs = (np.asfarray(all_values[1:])/255.0*0.99)+0.01\n",
    "\n",
    "    # query the\tnetwork 输出神经网络结果\n",
    "    outputs = n.query(inputs)\n",
    "    \n",
    "    # the index of the highest value corresponds to the label 最大值作为结果\n",
    "    label = np.argmax(outputs)\n",
    "    print(label, \"network's answer\")\n",
    "    \n",
    "    # append correct or incorrect to list 判断结果是否正确\n",
    "    if (label == correct_label):\n",
    "        # network's answer matches correct answer, add 1 to scorecard\n",
    "        scorecard.append(1)\n",
    "    else:\n",
    "        # network's answer doesn't match correct answer, add 0 to scorecard\n",
    "        scorecard.append(0)\n",
    "        \n",
    "print(scorecard)\n",
    "\n"
   ]
  },
  {
   "cell_type": "code",
   "execution_count": null,
   "id": "c7efe96a-ccc0-47a2-b0e3-de07035027d9",
   "metadata": {},
   "outputs": [],
   "source": []
  }
 ],
 "metadata": {
  "kernelspec": {
   "display_name": "Python 3 (ipykernel)",
   "language": "python",
   "name": "python3"
  },
  "language_info": {
   "codemirror_mode": {
    "name": "ipython",
    "version": 3
   },
   "file_extension": ".py",
   "mimetype": "text/x-python",
   "name": "python",
   "nbconvert_exporter": "python",
   "pygments_lexer": "ipython3",
   "version": "3.12.4"
  }
 },
 "nbformat": 4,
 "nbformat_minor": 5
}
